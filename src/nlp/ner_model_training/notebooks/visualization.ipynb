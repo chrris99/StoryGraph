{
 "cells": [
  {
   "cell_type": "code",
   "execution_count": 1,
   "id": "7e4b46de",
   "metadata": {},
   "outputs": [],
   "source": [
    "#removing punctuations\n",
    "#library that contains punctuation\n",
    "import string\n",
    "string.punctuation\n",
    "import matplotlib.pyplot as plt\n",
    "import numpy as np\n",
    "import pandas as pd\n",
    "import csv"
   ]
  },
  {
   "cell_type": "code",
   "execution_count": 2,
   "id": "de3d7198",
   "metadata": {},
   "outputs": [],
   "source": [
    "def remove_punctuation(text):\n",
    "    #remove punctuation from text\n",
    "    # return text without punctuation\n",
    "    ans=\"\"  \n",
    "    for i in text:     \n",
    "        if i not in string.punctuation:\n",
    "            ans+=i    \n",
    "    return ans"
   ]
  },
  {
   "cell_type": "code",
   "execution_count": 6,
   "id": "8dc39410",
   "metadata": {},
   "outputs": [],
   "source": [
    "train_df = pd.read_csv('train.tsv', sep='\\t', quoting=csv.QUOTE_NONE)"
   ]
  },
  {
   "cell_type": "code",
   "execution_count": 7,
   "id": "aee56ed3",
   "metadata": {},
   "outputs": [],
   "source": [
    "def generate_N_grams(text,ngram=1):\n",
    "    # generate a dictionary with n-grams\n",
    "    # return a dictionary with n-grams\n",
    "    dict_val = {}\n",
    "    count = 1\n",
    "    for i in range(text.shape[0]):\n",
    "        a = ' '.join(list(text[i:ngram +i]))\n",
    "        if a in dict_val.keys():\n",
    "            dict_val[a] += 1\n",
    "        else:\n",
    "            dict_val[a] = 1\n",
    "    return dict_val\n",
    "        "
   ]
  },
  {
   "cell_type": "code",
   "execution_count": 8,
   "id": "3da86b0a",
   "metadata": {},
   "outputs": [],
   "source": [
    "train_df['token']= train_df['token'].apply(lambda x:remove_punctuation(x))\n"
   ]
  },
  {
   "cell_type": "code",
   "execution_count": 9,
   "id": "4b3b8c54",
   "metadata": {},
   "outputs": [],
   "source": [
    "new_tr_df = train_df.set_index('token').drop('')\n",
    "new_tr_df = new_tr_df.reset_index()"
   ]
  },
  {
   "cell_type": "code",
   "execution_count": 10,
   "id": "b1f36490",
   "metadata": {},
   "outputs": [],
   "source": [
    "def max_10(c):\n",
    "    # gives the max 10 values of a dictionary\n",
    "    # returns two lists: first for values, second for the key of the value\n",
    "    list_a = []\n",
    "    list_b = []\n",
    "    for a in c:\n",
    "        if len(list_a) == 10:\n",
    "            if c[a] > np.min(list_a):\n",
    "                index = list_a.index(np.min(list_a))\n",
    "                list_a.remove(np.min(list_a))\n",
    "                list_b.remove(list_b[index])\n",
    "                list_a.append(c[a])\n",
    "                list_b.append(a)\n",
    "        else:\n",
    "            list_a.append(c[a])\n",
    "            list_b.append(a)\n",
    "    return list_a, list_b\n",
    "\n",
    "    "
   ]
  },
  {
   "cell_type": "code",
   "execution_count": 11,
   "id": "b20f90db",
   "metadata": {},
   "outputs": [],
   "source": [
    "n_gram_1 = generate_N_grams(new_tr_df['token'], ngram = 1)\n",
    "a,b = max_10(n_gram_1)"
   ]
  },
  {
   "cell_type": "code",
   "execution_count": 12,
   "id": "21e326cc",
   "metadata": {},
   "outputs": [
    {
     "name": "stdout",
     "output_type": "stream",
     "text": [
      "  agg_filter: a filter function, which takes a (m, n, 3) float array and a dpi value, and returns a (m, n, 3) array\n",
      "  alpha: float or None\n",
      "  animated: bool\n",
      "  antialiased or aa: unknown\n",
      "  bounds: (left, bottom, width, height)\n",
      "  capstyle: {'butt', 'round', 'projecting'}\n",
      "  clip_box: `.Bbox`\n",
      "  clip_on: bool\n",
      "  clip_path: Patch or (Path, Transform) or None\n",
      "  color: color\n",
      "  contains: unknown\n",
      "  edgecolor or ec: color or None or 'auto'\n",
      "  facecolor or fc: color or None\n",
      "  figure: `.Figure`\n",
      "  fill: bool\n",
      "  gid: str\n",
      "  hatch: {'/', '\\\\', '|', '-', '+', 'x', 'o', 'O', '.', '*'}\n",
      "  height: unknown\n",
      "  in_layout: bool\n",
      "  joinstyle: {'miter', 'round', 'bevel'}\n",
      "  label: object\n",
      "  linestyle or ls: {'-', '--', '-.', ':', '', (offset, on-off-seq), ...}\n",
      "  linewidth or lw: float or None\n",
      "  path_effects: `.AbstractPathEffect`\n",
      "  picker: None or bool or callable\n",
      "  rasterized: bool or None\n",
      "  sketch_params: (scale: float, length: float, randomness: float)\n",
      "  snap: bool or None\n",
      "  transform: `.Transform`\n",
      "  url: str\n",
      "  visible: bool\n",
      "  width: unknown\n",
      "  x: unknown\n",
      "  xy: (float, float)\n",
      "  y: unknown\n",
      "  zorder: float\n"
     ]
    },
    {
     "data": {
      "text/plain": [
       "Text(0.5, 1.0, 'Top 10 phrases of unigrams in dataframe')"
      ]
     },
     "execution_count": 12,
     "metadata": {},
     "output_type": "execute_result"
    },
    {
     "data": {
      "image/png": "[encoded data removed]",
      "text/plain": [
       "<Figure size 1152x288 with 1 Axes>"
      ]
     },
     "metadata": {
      "needs_background": "light"
     },
     "output_type": "display_data"
    }
   ],
   "source": [
    "plt.figure(1,figsize=(16,4))\n",
    "bar_p = plt.bar(b,a, color ='green',\n",
    "        width = 0.4)\n",
    "plt.setp(bar_p)\n",
    "plt.xlabel(\"highest 10 phrases unigrams\")\n",
    "plt.ylabel(\"Count\")\n",
    "plt.title(\"Top 10 phrases of unigrams in dataframe\")"
   ]
  },
  {
   "cell_type": "code",
   "execution_count": 13,
   "id": "7b3e6654",
   "metadata": {},
   "outputs": [],
   "source": [
    "n_gram_2 = generate_N_grams(new_tr_df['token'], ngram = 2)\n",
    "a,b = max_10(n_gram_2)"
   ]
  },
  {
   "cell_type": "code",
   "execution_count": 14,
   "id": "217e44c0",
   "metadata": {},
   "outputs": [
    {
     "name": "stdout",
     "output_type": "stream",
     "text": [
      "  agg_filter: a filter function, which takes a (m, n, 3) float array and a dpi value, and returns a (m, n, 3) array\n",
      "  alpha: float or None\n",
      "  animated: bool\n",
      "  antialiased or aa: unknown\n",
      "  bounds: (left, bottom, width, height)\n",
      "  capstyle: {'butt', 'round', 'projecting'}\n",
      "  clip_box: `.Bbox`\n",
      "  clip_on: bool\n",
      "  clip_path: Patch or (Path, Transform) or None\n",
      "  color: color\n",
      "  contains: unknown\n",
      "  edgecolor or ec: color or None or 'auto'\n",
      "  facecolor or fc: color or None\n",
      "  figure: `.Figure`\n",
      "  fill: bool\n",
      "  gid: str\n",
      "  hatch: {'/', '\\\\', '|', '-', '+', 'x', 'o', 'O', '.', '*'}\n",
      "  height: unknown\n",
      "  in_layout: bool\n",
      "  joinstyle: {'miter', 'round', 'bevel'}\n",
      "  label: object\n",
      "  linestyle or ls: {'-', '--', '-.', ':', '', (offset, on-off-seq), ...}\n",
      "  linewidth or lw: float or None\n",
      "  path_effects: `.AbstractPathEffect`\n",
      "  picker: None or bool or callable\n",
      "  rasterized: bool or None\n",
      "  sketch_params: (scale: float, length: float, randomness: float)\n",
      "  snap: bool or None\n",
      "  transform: `.Transform`\n",
      "  url: str\n",
      "  visible: bool\n",
      "  width: unknown\n",
      "  x: unknown\n",
      "  xy: (float, float)\n",
      "  y: unknown\n",
      "  zorder: float\n"
     ]
    },
    {
     "data": {
      "text/plain": [
       "Text(0.5, 1.0, 'Top 10 phrases of bigrams in dataframe')"
      ]
     },
     "execution_count": 14,
     "metadata": {},
     "output_type": "execute_result"
    },
    {
     "data": {
      "image/png": "[encoded data removed]",
      "text/plain": [
       "<Figure size 1152x288 with 1 Axes>"
      ]
     },
     "metadata": {
      "needs_background": "light"
     },
     "output_type": "display_data"
    }
   ],
   "source": [
    "plt.figure(1,figsize=(16,4))\n",
    "bar_p = plt.bar(b,a, color ='green',\n",
    "        width = 0.4)\n",
    "plt.setp(bar_p)\n",
    "plt.xlabel(\"highest 10 phrases of bigrams\")\n",
    "plt.ylabel(\"Count\")\n",
    "plt.title(\"Top 10 phrases of bigrams in dataframe\")"
   ]
  },
  {
   "cell_type": "code",
   "execution_count": 15,
   "id": "3add70fc",
   "metadata": {},
   "outputs": [],
   "source": [
    "n_gram_3 = generate_N_grams(new_tr_df['token'], ngram = 3)\n",
    "a,b = max_10(n_gram_3)"
   ]
  },
  {
   "cell_type": "code",
   "execution_count": 18,
   "id": "4b10c3bd",
   "metadata": {},
   "outputs": [
    {
     "data": {
      "text/plain": [
       "['A mérkőzést a',\n",
       " 'a Magyar Tudományos',\n",
       " 'Magyar Tudományos Akadémia',\n",
       " 'Tudományos Akadémia levelező',\n",
       " '290 községének egyike',\n",
       " 'Az Európai Parlament',\n",
       " 'Az Európai Unió',\n",
       " 'Ez a rendelet',\n",
       " 'rendelet az Európai',\n",
       " 'hogy a A']"
      ]
     },
     "execution_count": 18,
     "metadata": {},
     "output_type": "execute_result"
    }
   ],
   "source": [
    "b"
   ]
  },
  {
   "cell_type": "code",
   "execution_count": 22,
   "id": "bedb6c59",
   "metadata": {},
   "outputs": [],
   "source": [
    "n_gram_4 = generate_N_grams(new_tr_df['token'], ngram = 4)\n",
    "a,b = max_10(n_gram_4)"
   ]
  },
  {
   "cell_type": "code",
   "execution_count": 23,
   "id": "f0b3aa34",
   "metadata": {},
   "outputs": [
    {
     "data": {
      "text/plain": [
       "['csapatában mutatkozott az élvonalban',\n",
       " 'a Magyar Tudományos Akadémia',\n",
       " 'Magyar Tudományos Akadémia levelező',\n",
       " 'Fel nem használt cserék',\n",
       " 'község Svédország 290 községének',\n",
       " 'Svédország 290 községének egyike',\n",
       " 'Ez a rendelet az',\n",
       " 'a rendelet az Európai',\n",
       " 'csapat vett részt a',\n",
       " 'vett részt a győztes']"
      ]
     },
     "execution_count": 23,
     "metadata": {},
     "output_type": "execute_result"
    }
   ],
   "source": [
    "b"
   ]
  },
  {
   "cell_type": "code",
   "execution_count": null,
   "id": "29c43946",
   "metadata": {},
   "outputs": [],
   "source": []
  },
  {
   "cell_type": "code",
   "execution_count": null,
   "id": "1bba593a",
   "metadata": {},
   "outputs": [],
   "source": []
  }
 ],
 "metadata": {
  "kernelspec": {
   "display_name": "Python 3",
   "language": "python",
   "name": "python3"
  },
  "language_info": {
   "codemirror_mode": {
    "name": "ipython",
    "version": 3
   },
   "file_extension": ".py",
   "mimetype": "text/x-python",
   "name": "python",
   "nbconvert_exporter": "python",
   "pygments_lexer": "ipython3",
   "version": "3.6.10"
  }
 },
 "nbformat": 4,
 "nbformat_minor": 5
}
